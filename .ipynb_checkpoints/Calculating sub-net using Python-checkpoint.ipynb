{
 "cells": [
  {
   "cell_type": "code",
   "execution_count": 22,
   "metadata": {},
   "outputs": [
    {
     "name": "stdout",
     "output_type": "stream",
     "text": [
      "\n",
      "Enter the IP address: 192.168.1.1\n"
     ]
    }
   ],
   "source": [
    " while True:\n",
    "            # Take IP as input\n",
    "            input_ip = input(\"\\nEnter the IP address: \")\n",
    "\n",
    "            # Validate the IP\n",
    "            octet_ip = input_ip.split(\".\")\n",
    "            #print octet_ip\n",
    "            int_octet_ip = [int(i) for i in octet_ip]\n",
    "\n",
    "            if (len(int_octet_ip) == 4) and \\\n",
    "                    (int_octet_ip[0] != 127) and \\\n",
    "                    (int_octet_ip[0] != 169) and  \\\n",
    "                    (0 <= int_octet_ip[1] <= 255) and \\\n",
    "                    (0 <= int_octet_ip[2] <=255) and \\\n",
    "                    (0 <= int_octet_ip[3] <= 255):\n",
    "                break\n",
    "            else:\n",
    "                print(\"Invalid IP, retry \\n\")\n",
    "                continue"
   ]
  },
  {
   "cell_type": "code",
   "execution_count": 23,
   "metadata": {},
   "outputs": [
    {
     "data": {
      "text/plain": [
       "[192, 168, 1, 1]"
      ]
     },
     "execution_count": 23,
     "metadata": {},
     "output_type": "execute_result"
    }
   ],
   "source": [
    "int_octet_ip"
   ]
  },
  {
   "cell_type": "code",
   "execution_count": 24,
   "metadata": {},
   "outputs": [],
   "source": [
    "# Predefine possible subnet masks\n",
    "masks = [0, 128, 192, 224, 240, 248, 252, 254, 255]"
   ]
  },
  {
   "cell_type": "code",
   "execution_count": 25,
   "metadata": {},
   "outputs": [
    {
     "name": "stdout",
     "output_type": "stream",
     "text": [
      "\n",
      "Enter the Subnet Mask: 255.255.255.0\n"
     ]
    }
   ],
   "source": [
    "while True:\n",
    "            # Take subnet mask as input\n",
    "            input_subnet = input(\"\\nEnter the Subnet Mask: \")\n",
    "\n",
    "            # Validate the subnet mask\n",
    "            octet_subnet = [int(j) for j in input_subnet.split(\".\")]\n",
    "            # print octet_subnet\n",
    "            if (len(octet_subnet) == 4) and \\\n",
    "                    (octet_subnet[0] == 255) and \\\n",
    "                    (octet_subnet[1] in masks) and \\\n",
    "                    (octet_subnet[2] in masks) and \\\n",
    "                    (octet_subnet[3] in masks) and \\\n",
    "                    (octet_subnet[0] >= octet_subnet[1] >= octet_subnet[2] >= octet_subnet[3]):\n",
    "                break\n",
    "            else:\n",
    "                print(\"Invalid subnet mask, retry\\n\")\n",
    "                continue"
   ]
  },
  {
   "cell_type": "code",
   "execution_count": 32,
   "metadata": {},
   "outputs": [
    {
     "name": "stdout",
     "output_type": "stream",
     "text": [
      "False\n",
      "True\n"
     ]
    }
   ],
   "source": [
    "print(255>=0>=128>=0) # Invalid\n",
    "print(255>=128>=0>=0) # Valid"
   ]
  },
  {
   "cell_type": "code",
   "execution_count": 33,
   "metadata": {},
   "outputs": [
    {
     "data": {
      "text/plain": [
       "[255, 255, 255, 0]"
      ]
     },
     "execution_count": 33,
     "metadata": {},
     "output_type": "execute_result"
    }
   ],
   "source": [
    "octet_subnet"
   ]
  },
  {
   "cell_type": "code",
   "execution_count": 38,
   "metadata": {},
   "outputs": [
    {
     "data": {
      "text/plain": [
       "[192, 168, 1, 1]"
      ]
     },
     "execution_count": 38,
     "metadata": {},
     "output_type": "execute_result"
    }
   ],
   "source": [
    "int_octet_ip"
   ]
  },
  {
   "cell_type": "code",
   "execution_count": 40,
   "metadata": {},
   "outputs": [
    {
     "data": {
      "text/plain": [
       "'0b11000000'"
      ]
     },
     "execution_count": 40,
     "metadata": {},
     "output_type": "execute_result"
    }
   ],
   "source": [
    "bin(int_octet_ip[0])"
   ]
  },
  {
   "cell_type": "code",
   "execution_count": 41,
   "metadata": {},
   "outputs": [
    {
     "data": {
      "text/plain": [
       "['0', '11000000']"
      ]
     },
     "execution_count": 41,
     "metadata": {},
     "output_type": "execute_result"
    }
   ],
   "source": [
    "bin(int_octet_ip[0]).split(\"b\")"
   ]
  },
  {
   "cell_type": "code",
   "execution_count": 42,
   "metadata": {},
   "outputs": [
    {
     "data": {
      "text/plain": [
       "'11000000'"
      ]
     },
     "execution_count": 42,
     "metadata": {},
     "output_type": "execute_result"
    }
   ],
   "source": [
    "bin(int_octet_ip[0]).split(\"b\")[1]"
   ]
  },
  {
   "cell_type": "code",
   "execution_count": 53,
   "metadata": {},
   "outputs": [],
   "source": [
    "# Converting IP and subnet to binary\n",
    "ip_in_binary = []\n",
    "\n",
    "# Convert each IP octet to binary\n",
    "ip_in_bin_octets = [bin(i).split(\"b\")[1] for i in int_octet_ip]"
   ]
  },
  {
   "cell_type": "code",
   "execution_count": 54,
   "metadata": {},
   "outputs": [
    {
     "data": {
      "text/plain": [
       "[192, 168, 1, 1]"
      ]
     },
     "execution_count": 54,
     "metadata": {},
     "output_type": "execute_result"
    }
   ],
   "source": [
    "int_octet_ip"
   ]
  },
  {
   "cell_type": "code",
   "execution_count": 55,
   "metadata": {},
   "outputs": [
    {
     "data": {
      "text/plain": [
       "['11000000', '10101000', '1', '1']"
      ]
     },
     "execution_count": 55,
     "metadata": {},
     "output_type": "execute_result"
    }
   ],
   "source": [
    "ip_in_bin_octets"
   ]
  },
  {
   "cell_type": "code",
   "execution_count": 50,
   "metadata": {},
   "outputs": [
    {
     "name": "stdout",
     "output_type": "stream",
     "text": [
      "11000000\n",
      "10101000\n",
      "00000001\n",
      "00000001\n"
     ]
    }
   ],
   "source": [
    "print(ip_in_bin_octets[0].zfill(8)) \n",
    "print(ip_in_bin_octets[1].zfill(8))\n",
    "print(ip_in_bin_octets[2].zfill(8))\n",
    "print(ip_in_bin_octets[3].zfill(8))"
   ]
  },
  {
   "cell_type": "code",
   "execution_count": 59,
   "metadata": {},
   "outputs": [],
   "source": [
    "# make each binary octet of 8 bit length by padding zeros\n",
    "for i in range(0,len(ip_in_bin_octets)):\n",
    "    if len(ip_in_bin_octets[i]) < 8:\n",
    "        padded_bin = ip_in_bin_octets[i].zfill(8)\n",
    "        ip_in_binary.append(padded_bin)\n",
    "    else:\n",
    "        ip_in_binary.append(ip_in_bin_octets[i])"
   ]
  },
  {
   "cell_type": "code",
   "execution_count": 57,
   "metadata": {},
   "outputs": [],
   "source": [
    "#ip_in_binary.clear()"
   ]
  },
  {
   "cell_type": "code",
   "execution_count": 60,
   "metadata": {},
   "outputs": [
    {
     "data": {
      "text/plain": [
       "['11000000', '10101000', '00000001', '00000001']"
      ]
     },
     "execution_count": 60,
     "metadata": {},
     "output_type": "execute_result"
    }
   ],
   "source": [
    "ip_in_binary"
   ]
  },
  {
   "cell_type": "code",
   "execution_count": 61,
   "metadata": {},
   "outputs": [],
   "source": [
    "# join the binary octets\n",
    "ip_bin_mask = \"\".join(ip_in_binary)"
   ]
  },
  {
   "cell_type": "code",
   "execution_count": 62,
   "metadata": {},
   "outputs": [
    {
     "data": {
      "text/plain": [
       "'11000000101010000000000100000001'"
      ]
     },
     "execution_count": 62,
     "metadata": {},
     "output_type": "execute_result"
    }
   ],
   "source": [
    "ip_bin_mask"
   ]
  },
  {
   "cell_type": "code",
   "execution_count": 65,
   "metadata": {},
   "outputs": [
    {
     "data": {
      "text/plain": [
       "[255, 255, 255, 0]"
      ]
     },
     "execution_count": 65,
     "metadata": {},
     "output_type": "execute_result"
    }
   ],
   "source": [
    "octet_subnet"
   ]
  },
  {
   "cell_type": "code",
   "execution_count": 63,
   "metadata": {},
   "outputs": [],
   "source": [
    "# print ip_bin_mask\n",
    "sub_in_bin = []\n",
    "\n",
    "# convert each subnet octet to binary\n",
    "sub_bin_octet = [bin(i).split(\"b\")[1] for i in octet_subnet]"
   ]
  },
  {
   "cell_type": "code",
   "execution_count": 64,
   "metadata": {},
   "outputs": [
    {
     "data": {
      "text/plain": [
       "['11111111', '11111111', '11111111', '0']"
      ]
     },
     "execution_count": 64,
     "metadata": {},
     "output_type": "execute_result"
    }
   ],
   "source": [
    "sub_bin_octet"
   ]
  },
  {
   "cell_type": "code",
   "execution_count": 66,
   "metadata": {},
   "outputs": [],
   "source": [
    " # make each binary octet of 8 bit length by padding zeros\n",
    "for i in sub_bin_octet:\n",
    "    if len(i) < 8:\n",
    "        sub_padded = i.zfill(8)\n",
    "        sub_in_bin.append(sub_padded)\n",
    "    else:\n",
    "        sub_in_bin.append(i)"
   ]
  },
  {
   "cell_type": "code",
   "execution_count": 67,
   "metadata": {},
   "outputs": [
    {
     "data": {
      "text/plain": [
       "['11111111', '11111111', '11111111', '00000000']"
      ]
     },
     "execution_count": 67,
     "metadata": {},
     "output_type": "execute_result"
    }
   ],
   "source": [
    "sub_in_bin"
   ]
  },
  {
   "cell_type": "code",
   "execution_count": 68,
   "metadata": {},
   "outputs": [],
   "source": [
    "# print sub_in_bin\n",
    "sub_bin_mask = \"\".join(sub_in_bin)"
   ]
  },
  {
   "cell_type": "code",
   "execution_count": 69,
   "metadata": {},
   "outputs": [
    {
     "data": {
      "text/plain": [
       "'11111111111111111111111100000000'"
      ]
     },
     "execution_count": 69,
     "metadata": {},
     "output_type": "execute_result"
    }
   ],
   "source": [
    "sub_bin_mask"
   ]
  },
  {
   "cell_type": "code",
   "execution_count": 70,
   "metadata": {},
   "outputs": [
    {
     "name": "stdout",
     "output_type": "stream",
     "text": [
      "8\n",
      "24\n",
      "254\n"
     ]
    }
   ],
   "source": [
    "# calculating number of hosts\n",
    "\n",
    "no_zeros = sub_bin_mask.count(\"0\")\n",
    "no_ones = 32 - no_zeros\n",
    "no_hosts = abs(2 ** no_zeros - 2)\n",
    "\n",
    "print(no_zeros)\n",
    "print(no_ones)\n",
    "print(no_hosts)"
   ]
  },
  {
   "cell_type": "code",
   "execution_count": 71,
   "metadata": {},
   "outputs": [],
   "source": [
    "# Calculating wildcard mask\n",
    "wild_mask = []\n",
    "for i in octet_subnet:\n",
    "    wild_bit = 255 - i\n",
    "    wild_mask.append(wild_bit)"
   ]
  },
  {
   "cell_type": "code",
   "execution_count": 72,
   "metadata": {},
   "outputs": [
    {
     "data": {
      "text/plain": [
       "[0, 0, 0, 255]"
      ]
     },
     "execution_count": 72,
     "metadata": {},
     "output_type": "execute_result"
    }
   ],
   "source": [
    "wild_mask"
   ]
  },
  {
   "cell_type": "code",
   "execution_count": 73,
   "metadata": {},
   "outputs": [],
   "source": [
    "wildcard = \".\".join([str(i) for i in wild_mask])"
   ]
  },
  {
   "cell_type": "code",
   "execution_count": 74,
   "metadata": {},
   "outputs": [
    {
     "data": {
      "text/plain": [
       "'0.0.0.255'"
      ]
     },
     "execution_count": 74,
     "metadata": {},
     "output_type": "execute_result"
    }
   ],
   "source": [
    "wildcard"
   ]
  },
  {
   "cell_type": "code",
   "execution_count": 78,
   "metadata": {},
   "outputs": [
    {
     "data": {
      "text/plain": [
       "'11000000101010000000000100000001'"
      ]
     },
     "execution_count": 78,
     "metadata": {},
     "output_type": "execute_result"
    }
   ],
   "source": [
    "ip_bin_mask"
   ]
  },
  {
   "cell_type": "code",
   "execution_count": 77,
   "metadata": {},
   "outputs": [
    {
     "data": {
      "text/plain": [
       "'110000001010100000000001'"
      ]
     },
     "execution_count": 77,
     "metadata": {},
     "output_type": "execute_result"
    }
   ],
   "source": [
    "ip_bin_mask[:no_ones]"
   ]
  },
  {
   "cell_type": "code",
   "execution_count": 79,
   "metadata": {},
   "outputs": [
    {
     "data": {
      "text/plain": [
       "'00000000'"
      ]
     },
     "execution_count": 79,
     "metadata": {},
     "output_type": "execute_result"
    }
   ],
   "source": [
    "\"0\" * no_zeros"
   ]
  },
  {
   "cell_type": "code",
   "execution_count": 80,
   "metadata": {},
   "outputs": [
    {
     "data": {
      "text/plain": [
       "'11000000101010000000000100000000'"
      ]
     },
     "execution_count": 80,
     "metadata": {},
     "output_type": "execute_result"
    }
   ],
   "source": [
    "ip_bin_mask[:no_ones] + \"0\" * no_zeros"
   ]
  },
  {
   "cell_type": "code",
   "execution_count": 81,
   "metadata": {},
   "outputs": [],
   "source": [
    "# Calculating the network and broadcast address\n",
    "\n",
    "network_add_bin = ip_bin_mask[:no_ones] + \"0\" * no_zeros\n",
    "broadcast_add_bin = ip_bin_mask[:no_ones] + \"1\" * no_zeros"
   ]
  },
  {
   "cell_type": "code",
   "execution_count": 82,
   "metadata": {},
   "outputs": [
    {
     "name": "stdout",
     "output_type": "stream",
     "text": [
      "11000000101010000000000100000000\n",
      "11000000101010000000000111111111\n"
     ]
    }
   ],
   "source": [
    "print(network_add_bin)\n",
    "print(broadcast_add_bin)"
   ]
  },
  {
   "cell_type": "code",
   "execution_count": 83,
   "metadata": {},
   "outputs": [
    {
     "data": {
      "text/plain": [
       "[None, None, None, None]"
      ]
     },
     "execution_count": 83,
     "metadata": {},
     "output_type": "execute_result"
    }
   ],
   "source": [
    "network_add_bin_octet = []\n",
    "broadcast_binoct = []\n",
    "\n",
    "[network_add_bin_octet.append(i) for i in [network_add_bin[j:j+8] for j in range(0, len(network_add_bin), 8)]]\n",
    "[broadcast_binoct.append(i) for i in [broadcast_add_bin[j:j+8] for j in range(0,len(broadcast_add_bin),8)]]"
   ]
  },
  {
   "cell_type": "code",
   "execution_count": 84,
   "metadata": {},
   "outputs": [
    {
     "data": {
      "text/plain": [
       "['11000000', '10101000', '00000001', '00000000']"
      ]
     },
     "execution_count": 84,
     "metadata": {},
     "output_type": "execute_result"
    }
   ],
   "source": [
    "network_add_bin_octet"
   ]
  },
  {
   "cell_type": "code",
   "execution_count": 86,
   "metadata": {},
   "outputs": [
    {
     "data": {
      "text/plain": [
       "['11000000', '10101000', '00000001', '11111111']"
      ]
     },
     "execution_count": 86,
     "metadata": {},
     "output_type": "execute_result"
    }
   ],
   "source": [
    "broadcast_binoct"
   ]
  },
  {
   "cell_type": "code",
   "execution_count": 87,
   "metadata": {},
   "outputs": [],
   "source": [
    "network_add_dec_final = \".\".join([str(int(i,2)) for i in network_add_bin_octet])\n",
    "broadcast_add_dec_final = \".\".join([str(int(i,2)) for i in broadcast_binoct])"
   ]
  },
  {
   "cell_type": "code",
   "execution_count": 88,
   "metadata": {},
   "outputs": [
    {
     "name": "stdout",
     "output_type": "stream",
     "text": [
      "192.168.1.0\n",
      "192.168.1.255\n"
     ]
    }
   ],
   "source": [
    "print(network_add_dec_final)\n",
    "print(broadcast_add_dec_final)"
   ]
  },
  {
   "cell_type": "code",
   "execution_count": 89,
   "metadata": {},
   "outputs": [],
   "source": [
    "# Calculate the host IP range\n",
    "first_ip_host = network_add_bin_octet[0:3] + [(bin(int(network_add_bin_octet[3],2)+1).split(\"b\")[1].zfill(8))]\n",
    "first_ip = \".\".join([str(int(i,2)) for i in first_ip_host])"
   ]
  },
  {
   "cell_type": "code",
   "execution_count": 90,
   "metadata": {},
   "outputs": [
    {
     "data": {
      "text/plain": [
       "'192.168.1.1'"
      ]
     },
     "execution_count": 90,
     "metadata": {},
     "output_type": "execute_result"
    }
   ],
   "source": [
    "first_ip"
   ]
  },
  {
   "cell_type": "code",
   "execution_count": 91,
   "metadata": {},
   "outputs": [],
   "source": [
    "last_ip_host = broadcast_binoct[0:3] + [bin(int(broadcast_binoct[3],2) - 1).split(\"b\")[1].zfill(8)]\n",
    "last_ip = \".\".join([str(int(i,2)) for i in last_ip_host])"
   ]
  },
  {
   "cell_type": "code",
   "execution_count": 92,
   "metadata": {},
   "outputs": [
    {
     "data": {
      "text/plain": [
       "'192.168.1.254'"
      ]
     },
     "execution_count": 92,
     "metadata": {},
     "output_type": "execute_result"
    }
   ],
   "source": [
    "last_ip"
   ]
  },
  {
   "cell_type": "code",
   "execution_count": 94,
   "metadata": {},
   "outputs": [
    {
     "name": "stdout",
     "output_type": "stream",
     "text": [
      "\n",
      "The entered ip address is: 192.168.1.1\n",
      "The entered subnet mask is: 255.255.255.0\n",
      "Calculated number of hosts per subnet: 254\n",
      "Calculated number of mask bits: 24\n",
      "Calculated wildcard mask is: 0.0.0.255\n",
      "The Network address is: 192.168.1.0\n",
      "The Broadcast address is: 192.168.1.255\n",
      "IP address range is: 192.168.1.1 - 192.168.1.254\n",
      "Maximum number of subnets is: 1\n"
     ]
    }
   ],
   "source": [
    "# print all the computed results\n",
    "print(\"\\nThe entered ip address is: \" + input_ip)\n",
    "print(\"The entered subnet mask is: \" + input_subnet)\n",
    "print(\"Calculated number of hosts per subnet: {0}\".format(str(no_hosts)))\n",
    "print(\"Calculated number of mask bits: {0}\".format(str(no_ones)))\n",
    "print(\"Calculated wildcard mask is: {0}\".format(wildcard))\n",
    "print(\"The Network address is: {0}\".format(network_add_dec_final))\n",
    "print(\"The Broadcast address is: {0}\".format(broadcast_add_dec_final))\n",
    "print(\"IP address range is: {0} - {1}\".format(first_ip, last_ip))\n",
    "print(\"Maximum number of subnets is: \" + str(2**abs(24 - no_ones)))"
   ]
  },
  {
   "cell_type": "code",
   "execution_count": null,
   "metadata": {},
   "outputs": [],
   "source": []
  }
 ],
 "metadata": {
  "kernelspec": {
   "display_name": "Python 3",
   "language": "python",
   "name": "python3"
  },
  "language_info": {
   "codemirror_mode": {
    "name": "ipython",
    "version": 3
   },
   "file_extension": ".py",
   "mimetype": "text/x-python",
   "name": "python",
   "nbconvert_exporter": "python",
   "pygments_lexer": "ipython3",
   "version": "3.7.6"
  }
 },
 "nbformat": 4,
 "nbformat_minor": 4
}
